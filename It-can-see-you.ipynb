{
 "cells": [
  {
   "cell_type": "code",
   "execution_count": 7,
   "metadata": {},
   "outputs": [],
   "source": [
    "# Project - Face Mask Detection\n"
   ]
  },
  {
   "cell_type": "code",
   "execution_count": 8,
   "metadata": {},
   "outputs": [],
   "source": [
    "import numpy as np\n",
    "import pandas as pd\n",
    "%matplotlib inline\n",
    "import matplotlib as mpl\n",
    "import matplotlib.pyplot as plt\n",
    "import os"
   ]
  },
  {
   "cell_type": "code",
   "execution_count": 9,
   "metadata": {},
   "outputs": [],
   "source": [
    "import tensorflow as tf\n",
    "from tensorflow import keras"
   ]
  },
  {
   "cell_type": "markdown",
   "metadata": {},
   "source": [
    "### Please enter the correct file path"
   ]
  },
  {
   "cell_type": "code",
   "execution_count": 10,
   "metadata": {},
   "outputs": [],
   "source": [
    "train_dir = r'C:\\Users\\Ryukijano\\Python_notebooks\\Face_ Mask_ Dataset\\Train'\n",
    "validation_dir = r'C:\\Users\\Ryukijano\\Python_notebooks\\Face_ Mask_ Dataset\\Validation'\n",
    "test_dir =r'C:\\Users\\Ryukijano\\Python_notebooks\\Face_ Mask_ Dataset\\Test'"
   ]
  },
  {
   "cell_type": "code",
   "execution_count": 11,
   "metadata": {},
   "outputs": [],
   "source": [
    "from tensorflow.keras.preprocessing.image import ImageDataGenerator"
   ]
  },
  {
   "cell_type": "code",
   "execution_count": 12,
   "metadata": {},
   "outputs": [
    {
     "name": "stdout",
     "output_type": "stream",
     "text": [
      "Found 10000 images belonging to 2 classes.\n",
      "Found 800 images belonging to 2 classes.\n"
     ]
    }
   ],
   "source": [
    "train_datagen = ImageDataGenerator(rescale=1./255)\n",
    "test_datagen = ImageDataGenerator(rescale=1./255)\n",
    "\n",
    "train_generator = train_datagen.flow_from_directory(\n",
    "        train_dir,\n",
    "        target_size=(128, 128),\n",
    "        batch_size=20,\n",
    "        class_mode='binary')\n",
    "\n",
    "validation_generator = test_datagen.flow_from_directory(\n",
    "        validation_dir,\n",
    "        target_size=(128, 128),\n",
    "        batch_size=20,\n",
    "        class_mode='binary')"
   ]
  },
  {
   "cell_type": "code",
   "execution_count": 13,
   "metadata": {},
   "outputs": [],
   "source": [
    "from tensorflow.keras import layers\n",
    "from tensorflow.keras import models"
   ]
  },
  {
   "cell_type": "code",
   "execution_count": 14,
   "metadata": {},
   "outputs": [],
   "source": [
    "model = models.Sequential()\n",
    "\n",
    "model.add(layers.Conv2D(32, (3, 3), activation='relu',\n",
    "                        input_shape=(128, 128, 3)))\n",
    "model.add(layers.MaxPooling2D((2, 2)))\n",
    "\n",
    "model.add(layers.Conv2D(64, (3, 3), activation='relu'))\n",
    "model.add(layers.MaxPooling2D((2, 2)))\n",
    "\n",
    "model.add(layers.Conv2D(128, (3, 3), activation='relu'))\n",
    "model.add(layers.MaxPooling2D((2, 2)))\n",
    "\n",
    "model.add(layers.Conv2D(128, (3, 3), activation='relu'))\n",
    "model.add(layers.MaxPooling2D((2, 2)))\n",
    "\n",
    "model.add(layers.Flatten())\n",
    "\n",
    "model.add(layers.Dense(512, activation='relu'))\n",
    "\n",
    "model.add(layers.Dense(1, activation='sigmoid'))"
   ]
  },
  {
   "cell_type": "code",
   "execution_count": 15,
   "metadata": {},
   "outputs": [],
   "source": [
    "from tensorflow.keras import optimizers\n",
    "\n",
    "model.compile(loss='binary_crossentropy',\n",
    "              optimizer=optimizers.RMSprop(lr=1e-4),\n",
    "              metrics=['acc'])"
   ]
  },
  {
   "cell_type": "code",
   "execution_count": 16,
   "metadata": {
    "scrolled": true
   },
   "outputs": [
    {
     "name": "stdout",
     "output_type": "stream",
     "text": [
      "WARNING:tensorflow:From <ipython-input-16-0f3e0e957b18>:6: Model.fit_generator (from tensorflow.python.keras.engine.training) is deprecated and will be removed in a future version.\n",
      "Instructions for updating:\n",
      "Please use Model.fit, which supports generators.\n",
      "Epoch 1/20\n",
      "500/500 [==============================] - 99s 199ms/step - loss: 0.1468 - acc: 0.9429 - val_loss: 0.0382 - val_acc: 0.9887\n",
      "Epoch 2/20\n",
      "500/500 [==============================] - 98s 196ms/step - loss: 0.0448 - acc: 0.9843 - val_loss: 0.0151 - val_acc: 0.9950\n",
      "Epoch 3/20\n",
      "500/500 [==============================] - 101s 202ms/step - loss: 0.0297 - acc: 0.9888 - val_loss: 0.0133 - val_acc: 0.9937\n",
      "Epoch 4/20\n",
      "500/500 [==============================] - 99s 198ms/step - loss: 0.0227 - acc: 0.9923 - val_loss: 0.0122 - val_acc: 0.9950\n",
      "Epoch 5/20\n",
      "500/500 [==============================] - 99s 198ms/step - loss: 0.0200 - acc: 0.9927 - val_loss: 0.0156 - val_acc: 0.9962\n",
      "Epoch 6/20\n",
      "500/500 [==============================] - 101s 202ms/step - loss: 0.0166 - acc: 0.9940 - val_loss: 0.0081 - val_acc: 0.9962\n",
      "Epoch 7/20\n",
      "500/500 [==============================] - 100s 200ms/step - loss: 0.0155 - acc: 0.9947 - val_loss: 0.0144 - val_acc: 0.9950\n",
      "Epoch 8/20\n",
      "500/500 [==============================] - 99s 197ms/step - loss: 0.0145 - acc: 0.9946 - val_loss: 0.0105 - val_acc: 0.9950\n",
      "Epoch 9/20\n",
      "500/500 [==============================] - 98s 195ms/step - loss: 0.0126 - acc: 0.9958 - val_loss: 0.0115 - val_acc: 0.9962\n",
      "Epoch 10/20\n",
      "500/500 [==============================] - 98s 196ms/step - loss: 0.0108 - acc: 0.9963 - val_loss: 0.0148 - val_acc: 0.9962\n",
      "Epoch 11/20\n",
      "500/500 [==============================] - 100s 199ms/step - loss: 0.0109 - acc: 0.9962 - val_loss: 0.0180 - val_acc: 0.9962\n",
      "Epoch 12/20\n",
      "500/500 [==============================] - 100s 199ms/step - loss: 0.0071 - acc: 0.9970 - val_loss: 0.0131 - val_acc: 0.9962\n",
      "Epoch 13/20\n",
      "500/500 [==============================] - 99s 198ms/step - loss: 0.0075 - acc: 0.9975 - val_loss: 0.0165 - val_acc: 0.9962\n",
      "Epoch 14/20\n",
      "500/500 [==============================] - 99s 198ms/step - loss: 0.0064 - acc: 0.9976 - val_loss: 0.0162 - val_acc: 0.9962\n",
      "Epoch 15/20\n",
      "500/500 [==============================] - 99s 198ms/step - loss: 0.0062 - acc: 0.9976 - val_loss: 0.0098 - val_acc: 0.9975\n",
      "Epoch 16/20\n",
      "500/500 [==============================] - 100s 199ms/step - loss: 0.0060 - acc: 0.9982 - val_loss: 0.0112 - val_acc: 0.9962\n",
      "Epoch 17/20\n",
      "500/500 [==============================] - 101s 203ms/step - loss: 0.0058 - acc: 0.9981 - val_loss: 0.0164 - val_acc: 0.9975\n",
      "Epoch 18/20\n",
      "500/500 [==============================] - 100s 199ms/step - loss: 0.0050 - acc: 0.9984 - val_loss: 0.0359 - val_acc: 0.9950\n",
      "Epoch 19/20\n",
      "500/500 [==============================] - 100s 199ms/step - loss: 0.0056 - acc: 0.9986 - val_loss: 0.0130 - val_acc: 0.9962\n",
      "Epoch 20/20\n",
      "500/500 [==============================] - 100s 200ms/step - loss: 0.0027 - acc: 0.9991 - val_loss: 0.0122 - val_acc: 0.9975\n"
     ]
    }
   ],
   "source": [
    "history = model.fit_generator(\n",
    "      train_generator,\n",
    "      steps_per_epoch=500,\n",
    "      epochs=20,\n",
    "      validation_data=validation_generator,\n",
    "      validation_steps=40)"
   ]
  },
  {
   "cell_type": "code",
   "execution_count": 17,
   "metadata": {},
   "outputs": [],
   "source": [
    "model.save(\"model_cnn_project_P1.h5\")"
   ]
  },
  {
   "cell_type": "code",
   "execution_count": 18,
   "metadata": {},
   "outputs": [],
   "source": [
    "from tensorflow.keras import backend as K \n",
    "\n",
    "K.clear_session()\n",
    "del model"
   ]
  },
  {
   "cell_type": "code",
   "execution_count": 19,
   "metadata": {},
   "outputs": [
    {
     "name": "stdout",
     "output_type": "stream",
     "text": [
      "Found 10000 images belonging to 2 classes.\n",
      "Found 800 images belonging to 2 classes.\n"
     ]
    }
   ],
   "source": [
    "train_datagen = ImageDataGenerator(\n",
    "    rescale=1./255,\n",
    "    rotation_range=40,\n",
    "    width_shift_range=0.2,\n",
    "    height_shift_range=0.2,\n",
    "    shear_range=0.2,\n",
    "    zoom_range=0.2,\n",
    "    horizontal_flip=True,)\n",
    "\n",
    "test_datagen = ImageDataGenerator(rescale=1./255)\n",
    "\n",
    "train_generator = train_datagen.flow_from_directory(\n",
    "        train_dir,\n",
    "        target_size=(128, 128),\n",
    "        batch_size=32,\n",
    "        class_mode='binary')\n",
    "\n",
    "validation_generator = test_datagen.flow_from_directory(\n",
    "        validation_dir,\n",
    "        target_size=(128, 128),\n",
    "        batch_size=32,\n",
    "        class_mode='binary')"
   ]
  },
  {
   "cell_type": "code",
   "execution_count": 20,
   "metadata": {},
   "outputs": [],
   "source": [
    "model = models.Sequential()\n",
    "model.add(layers.Conv2D(32, (3, 3), activation='relu',\n",
    "                        input_shape=(128, 128, 3)))\n",
    "model.add(layers.MaxPooling2D((2, 2)))\n",
    "model.add(layers.Conv2D(64, (3, 3), activation='relu'))\n",
    "model.add(layers.MaxPooling2D((2, 2)))\n",
    "model.add(layers.Conv2D(128, (3, 3), activation='relu'))\n",
    "model.add(layers.MaxPooling2D((2, 2)))\n",
    "model.add(layers.Conv2D(128, (3, 3), activation='relu'))\n",
    "model.add(layers.MaxPooling2D((2, 2)))\n",
    "model.add(layers.Flatten())\n",
    "model.add(layers.Dropout(0.5))\n",
    "model.add(layers.Dense(512, activation='relu'))\n",
    "model.add(layers.Dense(1, activation='sigmoid'))\n",
    "\n",
    "model.compile(loss='binary_crossentropy',\n",
    "              optimizer=optimizers.RMSprop(lr=1e-4),\n",
    "              metrics=['acc'])"
   ]
  },
  {
   "cell_type": "code",
   "execution_count": 21,
   "metadata": {},
   "outputs": [
    {
     "name": "stdout",
     "output_type": "stream",
     "text": [
      "Epoch 1/10\n",
      "300/300 [==============================] - 99s 331ms/step - loss: 0.3014 - acc: 0.8710 - val_loss: 0.1483 - val_acc: 0.9463\n",
      "Epoch 2/10\n",
      "300/300 [==============================] - 97s 322ms/step - loss: 0.1984 - acc: 0.9222 - val_loss: 0.0983 - val_acc: 0.9675\n",
      "Epoch 3/10\n",
      "300/300 [==============================] - 96s 319ms/step - loss: 0.1727 - acc: 0.9360 - val_loss: 0.1028 - val_acc: 0.9688\n",
      "Epoch 4/10\n",
      "300/300 [==============================] - 96s 319ms/step - loss: 0.1640 - acc: 0.9379 - val_loss: 0.0906 - val_acc: 0.9762\n",
      "Epoch 5/10\n",
      "300/300 [==============================] - 96s 320ms/step - loss: 0.1596 - acc: 0.9426 - val_loss: 0.0756 - val_acc: 0.9787\n",
      "Epoch 6/10\n",
      "300/300 [==============================] - 98s 327ms/step - loss: 0.1517 - acc: 0.9466 - val_loss: 0.0654 - val_acc: 0.9775\n",
      "Epoch 7/10\n",
      "300/300 [==============================] - 98s 327ms/step - loss: 0.1395 - acc: 0.9482 - val_loss: 0.0625 - val_acc: 0.9837\n",
      "Epoch 8/10\n",
      "300/300 [==============================] - 96s 321ms/step - loss: 0.1348 - acc: 0.9508 - val_loss: 0.0684 - val_acc: 0.9850\n",
      "Epoch 9/10\n",
      "300/300 [==============================] - 93s 311ms/step - loss: 0.1216 - acc: 0.9558 - val_loss: 0.0388 - val_acc: 0.9875\n",
      "Epoch 10/10\n",
      "300/300 [==============================] - 94s 315ms/step - loss: 0.1196 - acc: 0.9581 - val_loss: 0.0356 - val_acc: 0.9850\n"
     ]
    }
   ],
   "source": [
    "history = model.fit_generator(\n",
    "      train_generator,\n",
    "      steps_per_epoch=300,\n",
    "      epochs=10,\n",
    "      validation_data=validation_generator,\n",
    "      validation_steps=25)"
   ]
  },
  {
   "cell_type": "code",
   "execution_count": null,
   "metadata": {},
   "outputs": [],
   "source": []
  },
  {
   "cell_type": "code",
   "execution_count": 22,
   "metadata": {},
   "outputs": [
    {
     "name": "stdout",
     "output_type": "stream",
     "text": [
      "Downloading data from https://storage.googleapis.com/tensorflow/keras-applications/vgg19/vgg19_weights_tf_dim_ordering_tf_kernels_notop.h5\n",
      "80142336/80134624 [==============================] - 5s 0us/step\n"
     ]
    }
   ],
   "source": [
    "from tensorflow.keras.applications import VGG19\n",
    "\n",
    "conv_base = VGG19(weights='imagenet',\n",
    "                  include_top=False,\n",
    "                  input_shape=(128, 128, 3))"
   ]
  },
  {
   "cell_type": "code",
   "execution_count": 24,
   "metadata": {},
   "outputs": [],
   "source": [
    "from tensorflow.keras import models\n",
    "from tensorflow.keras import layers\n",
    "\n",
    "model = models.Sequential()\n",
    "model.add(conv_base)\n",
    "model.add(layers.Flatten())\n",
    "model.add(layers.Dense(256, activation='relu'))\n",
    "model.add(layers.Dense(1, activation='sigmoid'))"
   ]
  },
  {
   "cell_type": "code",
   "execution_count": 25,
   "metadata": {},
   "outputs": [],
   "source": [
    "from tensorflow.keras import optimizers\n",
    "\n",
    "model.compile(loss='binary_crossentropy',\n",
    "              optimizer=optimizers.RMSprop(lr=2e-5),\n",
    "              metrics=['acc'])"
   ]
  },
  {
   "cell_type": "code",
   "execution_count": 26,
   "metadata": {},
   "outputs": [],
   "source": [
    "checkpoint_cb = keras.callbacks.ModelCheckpoint(\"CNN_Final_Project_Model-{epoch:02d}.h5\")"
   ]
  },
  {
   "cell_type": "code",
   "execution_count": null,
   "metadata": {},
   "outputs": [
    {
     "name": "stdout",
     "output_type": "stream",
     "text": [
      "Epoch 1/10\n",
      "300/300 [==============================] - 1267s 4s/step - loss: 0.0816 - acc: 0.9660 - val_loss: 0.0050 - val_acc: 0.9987\n",
      "Epoch 2/10\n",
      "300/300 [==============================] - 1303s 4s/step - loss: 0.0268 - acc: 0.9908 - val_loss: 0.0028 - val_acc: 0.9987\n",
      "Epoch 3/10\n",
      "300/300 [==============================] - 1357s 5s/step - loss: 0.0203 - acc: 0.9941 - val_loss: 4.2187e-04 - val_acc: 1.0000\n",
      "Epoch 4/10\n",
      "300/300 [==============================] - 1293s 4s/step - loss: 0.0156 - acc: 0.9957 - val_loss: 0.0172 - val_acc: 0.9975\n",
      "Epoch 5/10\n",
      "300/300 [==============================] - 1249s 4s/step - loss: 0.0123 - acc: 0.9966 - val_loss: 0.0050 - val_acc: 0.9987\n",
      "Epoch 6/10\n",
      "300/300 [==============================] - 1244s 4s/step - loss: 0.0135 - acc: 0.9966 - val_loss: 0.0031 - val_acc: 0.9987\n",
      "Epoch 7/10\n",
      "300/300 [==============================] - 1222s 4s/step - loss: 0.0115 - acc: 0.9968 - val_loss: 8.7311e-05 - val_acc: 1.0000\n",
      "Epoch 8/10\n",
      "109/300 [=========>....................] - ETA: 12:55 - loss: 0.0036 - acc: 0.9986"
     ]
    }
   ],
   "source": [
    "history = model.fit_generator(\n",
    "      train_generator,\n",
    "      steps_per_epoch=300,\n",
    "      epochs=10,\n",
    "      validation_data=validation_generator,\n",
    "      validation_steps=25,\n",
    "      callbacks=[checkpoint_cb])"
   ]
  },
  {
   "cell_type": "code",
   "execution_count": null,
   "metadata": {},
   "outputs": [],
   "source": [
    "test_generator = test_datagen.flow_from_directory(\n",
    "        test_dir,\n",
    "        target_size=(128, 128),\n",
    "        batch_size=32,\n",
    "        class_mode='binary')"
   ]
  },
  {
   "cell_type": "code",
   "execution_count": null,
   "metadata": {},
   "outputs": [],
   "source": [
    "model.evaluate_generator(test_generator, steps=31)"
   ]
  },
  {
   "cell_type": "code",
   "execution_count": null,
   "metadata": {},
   "outputs": [],
   "source": []
  },
  {
   "cell_type": "code",
   "execution_count": null,
   "metadata": {},
   "outputs": [],
   "source": []
  },
  {
   "cell_type": "code",
   "execution_count": null,
   "metadata": {},
   "outputs": [],
   "source": []
  },
  {
   "cell_type": "code",
   "execution_count": null,
   "metadata": {},
   "outputs": [],
   "source": []
  },
  {
   "cell_type": "code",
   "execution_count": null,
   "metadata": {},
   "outputs": [],
   "source": []
  },
  {
   "cell_type": "code",
   "execution_count": null,
   "metadata": {},
   "outputs": [],
   "source": []
  },
  {
   "cell_type": "code",
   "execution_count": null,
   "metadata": {},
   "outputs": [],
   "source": []
  },
  {
   "cell_type": "code",
   "execution_count": null,
   "metadata": {},
   "outputs": [],
   "source": []
  },
  {
   "cell_type": "code",
   "execution_count": null,
   "metadata": {},
   "outputs": [],
   "source": []
  },
  {
   "cell_type": "code",
   "execution_count": null,
   "metadata": {},
   "outputs": [],
   "source": []
  }
 ],
 "metadata": {
  "kernelspec": {
   "display_name": "Python 3",
   "language": "python",
   "name": "python3"
  },
  "language_info": {
   "codemirror_mode": {
    "name": "ipython",
    "version": 3
   },
   "file_extension": ".py",
   "mimetype": "text/x-python",
   "name": "python",
   "nbconvert_exporter": "python",
   "pygments_lexer": "ipython3",
   "version": "3.7.9"
  }
 },
 "nbformat": 4,
 "nbformat_minor": 4
}
